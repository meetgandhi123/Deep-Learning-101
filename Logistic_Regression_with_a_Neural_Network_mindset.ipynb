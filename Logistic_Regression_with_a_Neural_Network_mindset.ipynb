{
  "nbformat": 4,
  "nbformat_minor": 0,
  "metadata": {
    "colab": {
      "name": "Logistic Regression with a Neural Network mindset.ipynb",
      "provenance": [],
      "collapsed_sections": [],
      "mount_file_id": "1ONJ9QmNSbKCDInABinRJZN1kEB8xDeOp",
      "authorship_tag": "ABX9TyMkayC/BRRGbQ9PImXR3KRL",
      "include_colab_link": true
    },
    "kernelspec": {
      "name": "python3",
      "display_name": "Python 3"
    },
    "accelerator": "GPU"
  },
  "cells": [
    {
      "cell_type": "markdown",
      "metadata": {
        "id": "view-in-github",
        "colab_type": "text"
      },
      "source": [
        "<a href=\"https://colab.research.google.com/github/meetgandhi123/Deep-Learning-101/blob/master/Logistic_Regression_with_a_Neural_Network_mindset.ipynb\" target=\"_parent\"><img src=\"https://colab.research.google.com/assets/colab-badge.svg\" alt=\"Open In Colab\"/></a>"
      ]
    },
    {
      "cell_type": "code",
      "metadata": {
        "id": "OM0rtl8Ygjp1",
        "colab_type": "code",
        "colab": {}
      },
      "source": [
        "import numpy as np\n",
        "import matplotlib.pyplot as plt\n",
        "import h5py\n",
        "import scipy\n",
        "import cv2\n",
        "from PIL import Image\n",
        "from scipy import ndimage\n",
        "import keras"
      ],
      "execution_count": 0,
      "outputs": []
    },
    {
      "cell_type": "code",
      "metadata": {
        "id": "98iQcKuzhtlF",
        "colab_type": "code",
        "colab": {}
      },
      "source": [
        "filename=\"/content/drive/My Drive/Deep Learning/Datasets/test_catvnoncat.h5\"\n",
        "\n",
        "with h5py.File(filename, 'r') as f:\n",
        "   x_test = f['test_set_x']\n",
        "   y_test=f['test_set_y']\n",
        "   x_test=np.array(x_test)\n",
        "   y_test=np.array(y_test)"
      ],
      "execution_count": 0,
      "outputs": []
    },
    {
      "cell_type": "code",
      "metadata": {
        "id": "KsxXNYR7iRde",
        "colab_type": "code",
        "colab": {}
      },
      "source": [
        "filename1=\"/content/drive/My Drive/Deep Learning/Datasets/train_catvnoncat.h5\"\n",
        "with h5py.File(filename1, 'r') as f:\n",
        "   x_train = f['train_set_x']\n",
        "   y_train=f['train_set_y']\n",
        "   x_train=np.array(x_train)\n",
        "   y_train=np.array(y_train)"
      ],
      "execution_count": 0,
      "outputs": []
    },
    {
      "cell_type": "code",
      "metadata": {
        "id": "CvRCnoigmsNs",
        "colab_type": "code",
        "colab": {
          "base_uri": "https://localhost:8080/",
          "height": 132
        },
        "outputId": "5438962c-1bd0-4fc1-d75b-07cf4fb67dfe"
      },
      "source": [
        "from google.colab.patches import cv2_imshow\n",
        "!curl -o logo.png https://colab.research.google.com/img/colab_favicon_256px.png\n",
        "import cv2\n",
        "one=x_train[29]\n",
        "cv2_imshow(one)"
      ],
      "execution_count": 15,
      "outputs": [
        {
          "output_type": "stream",
          "text": [
            "  % Total    % Received % Xferd  Average Speed   Time    Time     Time  Current\n",
            "                                 Dload  Upload   Total   Spent    Left  Speed\n",
            "\r  0     0    0     0    0     0      0      0 --:--:-- --:--:-- --:--:--     0\r 62  5500   62  3457    0     0   7232      0 --:--:-- --:--:-- --:--:--  7217\r100  5500  100  5500    0     0  11506      0 --:--:-- --:--:-- --:--:-- 11482\n"
          ],
          "name": "stdout"
        },
        {
          "output_type": "display_data",
          "data": {
            "image/png": "[encoded data removed]",
            "text/plain": [
              "<PIL.Image.Image image mode=RGB size=64x64 at 0x7FDFA16271D0>"
            ]
          },
          "metadata": {
            "tags": []
          }
        }
      ]
    },
    {
      "cell_type": "code",
      "metadata": {
        "id": "l9dR59NypTRA",
        "colab_type": "code",
        "colab": {}
      },
      "source": [
        "x_test=x_test/255\n",
        "x_train=x_train/255"
      ],
      "execution_count": 0,
      "outputs": []
    },
    {
      "cell_type": "code",
      "metadata": {
        "id": "pkW9ymSSu1zH",
        "colab_type": "code",
        "colab": {
          "base_uri": "https://localhost:8080/",
          "height": 136
        },
        "outputId": "ce0de989-8999-410a-a0ae-0f41ca974c33"
      },
      "source": [
        "x_train.shape\n",
        "x_train=x_train.reshape(209,12288)\n",
        "x_test.shape\n",
        "x_test=x_test.reshape(50,12288)\n",
        "print(x_train.shape)\n",
        "print(y_train)"
      ],
      "execution_count": 17,
      "outputs": [
        {
          "output_type": "stream",
          "text": [
            "(209, 12288)\n",
            "[0 0 1 0 0 0 0 1 0 0 0 1 0 1 1 0 0 0 0 1 0 0 0 0 1 1 0 1 0 1 0 0 0 0 0 0 0\n",
            " 0 1 0 0 1 1 0 0 0 0 1 0 0 1 0 0 0 1 0 1 1 0 1 1 1 0 0 0 0 0 0 1 0 0 1 0 0\n",
            " 0 0 0 0 0 0 0 0 0 1 1 0 0 0 1 0 0 0 1 1 1 0 0 1 0 0 0 0 1 0 1 0 1 1 1 1 1\n",
            " 1 0 0 0 0 0 1 0 0 0 1 0 0 1 0 1 0 1 1 0 0 0 1 1 1 1 1 0 0 0 0 1 0 1 1 1 0\n",
            " 1 1 0 0 0 1 0 0 1 0 0 0 0 0 1 0 1 0 1 0 0 1 1 1 0 0 1 1 0 1 0 1 0 0 0 0 0\n",
            " 1 0 0 1 0 0 0 1 0 0 0 0 1 0 0 1 0 0 0 0 0 0 0 0]\n"
          ],
          "name": "stdout"
        }
      ]
    },
    {
      "cell_type": "code",
      "metadata": {
        "id": "SkFXzd2uqdo1",
        "colab_type": "code",
        "colab": {
          "base_uri": "https://localhost:8080/",
          "height": 629
        },
        "outputId": "313a430f-4571-4340-b26b-6443639ea70e"
      },
      "source": [
        "from keras.models import Sequential\n",
        "from keras.layers import Dense\n",
        "model = Sequential()\n",
        "model.add(Dense(8192, input_dim=(12288), activation='sigmoid'))\n",
        "model.add(Dense(4096, activation='sigmoid'))\n",
        "model.add(Dense(2048, activation='sigmoid'))\n",
        "model.add(Dense(1024, activation='sigmoid'))\n",
        "model.add(Dense(512, activation='sigmoid'))\n",
        "model.add(Dense(256, activation='sigmoid'))\n",
        "model.add(Dense(128, activation='sigmoid'))\n",
        "model.add(Dense(64, activation='sigmoid'))\n",
        "model.add(Dense(32, activation='sigmoid'))\n",
        "model.add(Dense(16, activation='sigmoid'))\n",
        "model.add(Dense(8, activation='sigmoid'))\n",
        "model.add(Dense(4, activation='sigmoid'))\n",
        "model.add(Dense(2, activation='sigmoid'))\n",
        "model.add(Dense(1, activation='sigmoid'))\n",
        "model.summary()"
      ],
      "execution_count": 22,
      "outputs": [
        {
          "output_type": "stream",
          "text": [
            "Model: \"sequential_3\"\n",
            "_________________________________________________________________\n",
            "Layer (type)                 Output Shape              Param #   \n",
            "=================================================================\n",
            "dense_29 (Dense)             (None, 8192)              100671488 \n",
            "_________________________________________________________________\n",
            "dense_30 (Dense)             (None, 4096)              33558528  \n",
            "_________________________________________________________________\n",
            "dense_31 (Dense)             (None, 2048)              8390656   \n",
            "_________________________________________________________________\n",
            "dense_32 (Dense)             (None, 1024)              2098176   \n",
            "_________________________________________________________________\n",
            "dense_33 (Dense)             (None, 512)               524800    \n",
            "_________________________________________________________________\n",
            "dense_34 (Dense)             (None, 256)               131328    \n",
            "_________________________________________________________________\n",
            "dense_35 (Dense)             (None, 128)               32896     \n",
            "_________________________________________________________________\n",
            "dense_36 (Dense)             (None, 64)                8256      \n",
            "_________________________________________________________________\n",
            "dense_37 (Dense)             (None, 32)                2080      \n",
            "_________________________________________________________________\n",
            "dense_38 (Dense)             (None, 16)                528       \n",
            "_________________________________________________________________\n",
            "dense_39 (Dense)             (None, 8)                 136       \n",
            "_________________________________________________________________\n",
            "dense_40 (Dense)             (None, 4)                 36        \n",
            "_________________________________________________________________\n",
            "dense_41 (Dense)             (None, 2)                 10        \n",
            "_________________________________________________________________\n",
            "dense_42 (Dense)             (None, 1)                 3         \n",
            "=================================================================\n",
            "Total params: 145,418,921\n",
            "Trainable params: 145,418,921\n",
            "Non-trainable params: 0\n",
            "_________________________________________________________________\n"
          ],
          "name": "stdout"
        }
      ]
    },
    {
      "cell_type": "code",
      "metadata": {
        "id": "vuBho8F3vfwF",
        "colab_type": "code",
        "colab": {}
      },
      "source": [
        "model.compile(loss='binary_crossentropy', optimizer='adam', metrics=['accuracy'])"
      ],
      "execution_count": 0,
      "outputs": []
    },
    {
      "cell_type": "code",
      "metadata": {
        "id": "dQU6IWbTvjBg",
        "colab_type": "code",
        "colab": {
          "base_uri": "https://localhost:8080/",
          "height": 714
        },
        "outputId": "b1d3a83a-ca53-487d-be8a-054c18386a21"
      },
      "source": [
        "model.fit(x_train, y_train, epochs=20, batch_size=10)"
      ],
      "execution_count": 24,
      "outputs": [
        {
          "output_type": "stream",
          "text": [
            "Epoch 1/20\n",
            "209/209 [==============================] - 2s 11ms/step - loss: 0.6919 - accuracy: 0.6555\n",
            "Epoch 2/20\n",
            "209/209 [==============================] - 2s 9ms/step - loss: 0.6894 - accuracy: 0.6555\n",
            "Epoch 3/20\n",
            "209/209 [==============================] - 2s 10ms/step - loss: 0.6870 - accuracy: 0.6555\n",
            "Epoch 4/20\n",
            "209/209 [==============================] - 2s 10ms/step - loss: 0.6847 - accuracy: 0.6555\n",
            "Epoch 5/20\n",
            "209/209 [==============================] - 2s 9ms/step - loss: 0.6826 - accuracy: 0.6555\n",
            "Epoch 6/20\n",
            "209/209 [==============================] - 2s 9ms/step - loss: 0.6805 - accuracy: 0.6555\n",
            "Epoch 7/20\n",
            "209/209 [==============================] - 2s 10ms/step - loss: 0.6786 - accuracy: 0.6555\n",
            "Epoch 8/20\n",
            "209/209 [==============================] - 2s 9ms/step - loss: 0.6768 - accuracy: 0.6555\n",
            "Epoch 9/20\n",
            "209/209 [==============================] - 2s 9ms/step - loss: 0.6750 - accuracy: 0.6555\n",
            "Epoch 10/20\n",
            "209/209 [==============================] - 2s 10ms/step - loss: 0.6736 - accuracy: 0.6555\n",
            "Epoch 11/20\n",
            "209/209 [==============================] - 2s 9ms/step - loss: 0.6720 - accuracy: 0.6555\n",
            "Epoch 12/20\n",
            "209/209 [==============================] - 2s 10ms/step - loss: 0.6704 - accuracy: 0.6555\n",
            "Epoch 13/20\n",
            "209/209 [==============================] - 2s 10ms/step - loss: 0.6693 - accuracy: 0.6555\n",
            "Epoch 14/20\n",
            "209/209 [==============================] - 2s 9ms/step - loss: 0.6678 - accuracy: 0.6555\n",
            "Epoch 15/20\n",
            "209/209 [==============================] - 2s 9ms/step - loss: 0.6665 - accuracy: 0.6555\n",
            "Epoch 16/20\n",
            "209/209 [==============================] - 2s 10ms/step - loss: 0.6654 - accuracy: 0.6555\n",
            "Epoch 17/20\n",
            "209/209 [==============================] - 2s 10ms/step - loss: 0.6643 - accuracy: 0.6555\n",
            "Epoch 18/20\n",
            "209/209 [==============================] - 2s 9ms/step - loss: 0.6632 - accuracy: 0.6555\n",
            "Epoch 19/20\n",
            "209/209 [==============================] - 2s 9ms/step - loss: 0.6622 - accuracy: 0.6555\n",
            "Epoch 20/20\n",
            "209/209 [==============================] - 2s 9ms/step - loss: 0.6612 - accuracy: 0.6555\n"
          ],
          "name": "stdout"
        },
        {
          "output_type": "execute_result",
          "data": {
            "text/plain": [
              "<keras.callbacks.callbacks.History at 0x7fdfa111f048>"
            ]
          },
          "metadata": {
            "tags": []
          },
          "execution_count": 24
        }
      ]
    },
    {
      "cell_type": "code",
      "metadata": {
        "id": "d1kyO9xxwIGY",
        "colab_type": "code",
        "colab": {
          "base_uri": "https://localhost:8080/",
          "height": 51
        },
        "outputId": "5d6ec5fd-d606-4dbd-a265-144d6a15cff4"
      },
      "source": [
        "_, accuracy = model.evaluate(x_test, y_test)\n",
        "print('Accuracy: %.2f' % (accuracy*100))"
      ],
      "execution_count": 21,
      "outputs": [
        {
          "output_type": "stream",
          "text": [
            "50/50 [==============================] - 0s 868us/step\n",
            "Accuracy: 34.00\n"
          ],
          "name": "stdout"
        }
      ]
    }
  ]
}