{
  "nbformat": 4,
  "nbformat_minor": 0,
  "metadata": {
    "colab": {
      "name": "BlackFridayNN.ipynb",
      "provenance": [],
      "mount_file_id": "13DsOdUVYqLMQ71gtvvm1G-XbGahEEGWD",
      "authorship_tag": "ABX9TyN02tpDWdxwFBr0AWeiAF1g",
      "include_colab_link": true
    },
    "kernelspec": {
      "name": "python3",
      "display_name": "Python 3"
    },
    "accelerator": "GPU"
  },
  "cells": [
    {
      "cell_type": "markdown",
      "metadata": {
        "id": "view-in-github",
        "colab_type": "text"
      },
      "source": [
        "<a href=\"https://colab.research.google.com/github/meetgandhi123/Deep-Learning-101/blob/master/BlackFridayNN.ipynb\" target=\"_parent\"><img src=\"https://colab.research.google.com/assets/colab-badge.svg\" alt=\"Open In Colab\"/></a>"
      ]
    },
    {
      "cell_type": "code",
      "metadata": {
        "id": "tbdi8q0KWRw3",
        "colab_type": "code",
        "colab": {
          "base_uri": "https://localhost:8080/",
          "height": 73
        },
        "outputId": "9730e8c9-d1ce-463a-dad3-8068448addd0"
      },
      "source": [
        "!unzip \"/content/drive/My Drive/Deep Learning/Datasets/black-friday.zip\""
      ],
      "execution_count": 2,
      "outputs": [
        {
          "output_type": "stream",
          "text": [
            "Archive:  /content/drive/My Drive/Deep Learning/Datasets/black-friday.zip\n",
            "  inflating: test.csv                \n",
            "  inflating: train.csv               \n"
          ],
          "name": "stdout"
        }
      ]
    },
    {
      "cell_type": "code",
      "metadata": {
        "id": "l9fOZovPXdHe",
        "colab_type": "code",
        "colab": {
          "base_uri": "https://localhost:8080/",
          "height": 36
        },
        "outputId": "a0243c0a-90bc-446f-e7f6-2c22361cd31a"
      },
      "source": [
        "\"\"\"\n",
        "Check no of columns\n",
        "input tensor=#col\n",
        "batch size of 10\n",
        "\"\"\""
      ],
      "execution_count": 3,
      "outputs": [
        {
          "output_type": "execute_result",
          "data": {
            "text/plain": [
              "'\\nCheck no of columns\\ninput tensor=#col\\nbatch size of 10\\n'"
            ]
          },
          "metadata": {
            "tags": []
          },
          "execution_count": 3
        }
      ]
    },
    {
      "cell_type": "code",
      "metadata": {
        "id": "bQiamrplXwT_",
        "colab_type": "code",
        "colab": {}
      },
      "source": [
        "import numpy as np\n",
        "import pandas as pd"
      ],
      "execution_count": 0,
      "outputs": []
    },
    {
      "cell_type": "code",
      "metadata": {
        "id": "gOW1ecXBXzLY",
        "colab_type": "code",
        "colab": {}
      },
      "source": [
        "train=pd.read_csv(\"/content/train.csv\")\n",
        "test=pd.read_csv(\"/content/test.csv\")"
      ],
      "execution_count": 0,
      "outputs": []
    },
    {
      "cell_type": "code",
      "metadata": {
        "id": "2bPlq9kHX_92",
        "colab_type": "code",
        "colab": {}
      },
      "source": [
        "#train.head()"
      ],
      "execution_count": 0,
      "outputs": []
    },
    {
      "cell_type": "code",
      "metadata": {
        "id": "8rulfwfKYBe-",
        "colab_type": "code",
        "colab": {}
      },
      "source": [
        "#train.info()"
      ],
      "execution_count": 0,
      "outputs": []
    },
    {
      "cell_type": "code",
      "metadata": {
        "id": "fgMk-UfqYIMB",
        "colab_type": "code",
        "colab": {}
      },
      "source": [
        "train=train.fillna(0)\n",
        "test=test.fillna(0)"
      ],
      "execution_count": 0,
      "outputs": []
    },
    {
      "cell_type": "code",
      "metadata": {
        "id": "sw2AIdgPaECo",
        "colab_type": "code",
        "colab": {}
      },
      "source": [
        "#train.nunique()"
      ],
      "execution_count": 0,
      "outputs": []
    },
    {
      "cell_type": "code",
      "metadata": {
        "id": "TIXPGizJafA4",
        "colab_type": "code",
        "colab": {}
      },
      "source": [
        "for col in ['Gender', 'Age', 'Occupation', 'City_Category','Stay_In_Current_City_Years','Marital_Status']:\n",
        "    train[col] = train[col].astype('category')\n",
        "    test[col] = test[col].astype('category')"
      ],
      "execution_count": 0,
      "outputs": []
    },
    {
      "cell_type": "code",
      "metadata": {
        "id": "vl3JWHXRbPCa",
        "colab_type": "code",
        "colab": {}
      },
      "source": [
        "#train.info()"
      ],
      "execution_count": 0,
      "outputs": []
    },
    {
      "cell_type": "code",
      "metadata": {
        "id": "UNkwtgLbbTG0",
        "colab_type": "code",
        "colab": {}
      },
      "source": [
        "train_ID=train[['User_ID','Product_ID']]\n",
        "test_ID=test[['User_ID','Product_ID']]"
      ],
      "execution_count": 0,
      "outputs": []
    },
    {
      "cell_type": "code",
      "metadata": {
        "id": "8r-wh2Blhg6g",
        "colab_type": "code",
        "colab": {}
      },
      "source": [
        "train=train.drop(['User_ID','Product_ID'],axis=1)\n",
        "test=test.drop(['User_ID','Product_ID'],axis=1)"
      ],
      "execution_count": 0,
      "outputs": []
    },
    {
      "cell_type": "code",
      "metadata": {
        "id": "EV_Xdmx2g8SD",
        "colab_type": "code",
        "colab": {}
      },
      "source": [
        "#train_ID.shape"
      ],
      "execution_count": 0,
      "outputs": []
    },
    {
      "cell_type": "code",
      "metadata": {
        "id": "0DAU8IrNe0bo",
        "colab_type": "code",
        "colab": {}
      },
      "source": [
        "train=pd.get_dummies(train)\n",
        "test=pd.get_dummies(test)"
      ],
      "execution_count": 0,
      "outputs": []
    },
    {
      "cell_type": "code",
      "metadata": {
        "id": "dcmObWa-hF8j",
        "colab_type": "code",
        "colab": {}
      },
      "source": [
        "train.shape\n",
        "head_train=train.columns\n",
        "head_test=test.columns"
      ],
      "execution_count": 0,
      "outputs": []
    },
    {
      "cell_type": "code",
      "metadata": {
        "id": "dcMNaQippoZw",
        "colab_type": "code",
        "colab": {}
      },
      "source": [
        "#head_train"
      ],
      "execution_count": 0,
      "outputs": []
    },
    {
      "cell_type": "code",
      "metadata": {
        "id": "NzpiMNyGWLn6",
        "colab_type": "code",
        "colab": {
          "base_uri": "https://localhost:8080/",
          "height": 36
        },
        "outputId": "19e09f36-5811-46fb-a9a7-0b9c171bdcbf"
      },
      "source": [
        "mul=max(train['Purchase'])\n",
        "print(mul)"
      ],
      "execution_count": 52,
      "outputs": [
        {
          "output_type": "stream",
          "text": [
            "23961\n"
          ],
          "name": "stdout"
        }
      ]
    },
    {
      "cell_type": "code",
      "metadata": {
        "id": "cu_AQchJgLmS",
        "colab_type": "code",
        "colab": {}
      },
      "source": [
        "#NORMALIZE THE DATA\n",
        "def Norm(df):\n",
        "  from sklearn import preprocessing\n",
        "  x = df.values #returns a numpy array\n",
        "  min_max_scaler = preprocessing.MinMaxScaler()\n",
        "  x_scaled = min_max_scaler.fit_transform(x)\n",
        "  df = pd.DataFrame(x_scaled)\n",
        "  return df"
      ],
      "execution_count": 0,
      "outputs": []
    },
    {
      "cell_type": "code",
      "metadata": {
        "id": "pQgmTsnojNYN",
        "colab_type": "code",
        "colab": {}
      },
      "source": [
        "train=Norm(train)\n",
        "test=Norm(test)"
      ],
      "execution_count": 0,
      "outputs": []
    },
    {
      "cell_type": "code",
      "metadata": {
        "id": "-sFUm9ksj75F",
        "colab_type": "code",
        "colab": {}
      },
      "source": [
        "train.columns = head_train\n",
        "test.columns = head_test"
      ],
      "execution_count": 0,
      "outputs": []
    },
    {
      "cell_type": "code",
      "metadata": {
        "id": "IIIheE-Ljs1A",
        "colab_type": "code",
        "colab": {
          "base_uri": "https://localhost:8080/",
          "height": 972
        },
        "outputId": "cae50f2a-a695-4954-de86-bd0a38a5e3f7"
      },
      "source": [
        "train.info()"
      ],
      "execution_count": 56,
      "outputs": [
        {
          "output_type": "stream",
          "text": [
            "<class 'pandas.core.frame.DataFrame'>\n",
            "RangeIndex: 550068 entries, 0 to 550067\n",
            "Data columns (total 44 columns):\n",
            " #   Column                         Non-Null Count   Dtype  \n",
            "---  ------                         --------------   -----  \n",
            " 0   Product_Category_1             550068 non-null  float64\n",
            " 1   Product_Category_2             550068 non-null  float64\n",
            " 2   Product_Category_3             550068 non-null  float64\n",
            " 3   Purchase                       550068 non-null  float64\n",
            " 4   Gender_F                       550068 non-null  float64\n",
            " 5   Gender_M                       550068 non-null  float64\n",
            " 6   Age_0-17                       550068 non-null  float64\n",
            " 7   Age_18-25                      550068 non-null  float64\n",
            " 8   Age_26-35                      550068 non-null  float64\n",
            " 9   Age_36-45                      550068 non-null  float64\n",
            " 10  Age_46-50                      550068 non-null  float64\n",
            " 11  Age_51-55                      550068 non-null  float64\n",
            " 12  Age_55+                        550068 non-null  float64\n",
            " 13  Occupation_0                   550068 non-null  float64\n",
            " 14  Occupation_1                   550068 non-null  float64\n",
            " 15  Occupation_2                   550068 non-null  float64\n",
            " 16  Occupation_3                   550068 non-null  float64\n",
            " 17  Occupation_4                   550068 non-null  float64\n",
            " 18  Occupation_5                   550068 non-null  float64\n",
            " 19  Occupation_6                   550068 non-null  float64\n",
            " 20  Occupation_7                   550068 non-null  float64\n",
            " 21  Occupation_8                   550068 non-null  float64\n",
            " 22  Occupation_9                   550068 non-null  float64\n",
            " 23  Occupation_10                  550068 non-null  float64\n",
            " 24  Occupation_11                  550068 non-null  float64\n",
            " 25  Occupation_12                  550068 non-null  float64\n",
            " 26  Occupation_13                  550068 non-null  float64\n",
            " 27  Occupation_14                  550068 non-null  float64\n",
            " 28  Occupation_15                  550068 non-null  float64\n",
            " 29  Occupation_16                  550068 non-null  float64\n",
            " 30  Occupation_17                  550068 non-null  float64\n",
            " 31  Occupation_18                  550068 non-null  float64\n",
            " 32  Occupation_19                  550068 non-null  float64\n",
            " 33  Occupation_20                  550068 non-null  float64\n",
            " 34  City_Category_A                550068 non-null  float64\n",
            " 35  City_Category_B                550068 non-null  float64\n",
            " 36  City_Category_C                550068 non-null  float64\n",
            " 37  Stay_In_Current_City_Years_0   550068 non-null  float64\n",
            " 38  Stay_In_Current_City_Years_1   550068 non-null  float64\n",
            " 39  Stay_In_Current_City_Years_2   550068 non-null  float64\n",
            " 40  Stay_In_Current_City_Years_3   550068 non-null  float64\n",
            " 41  Stay_In_Current_City_Years_4+  550068 non-null  float64\n",
            " 42  Marital_Status_0               550068 non-null  float64\n",
            " 43  Marital_Status_1               550068 non-null  float64\n",
            "dtypes: float64(44)\n",
            "memory usage: 184.7 MB\n"
          ],
          "name": "stdout"
        }
      ]
    },
    {
      "cell_type": "code",
      "metadata": {
        "id": "ubuI2lDbfsE1",
        "colab_type": "code",
        "colab": {}
      },
      "source": [
        "#train=pd.concat([train,train_ID],axis=1)\n",
        "#test=pd.concat([test,test_ID],axis=1)"
      ],
      "execution_count": 0,
      "outputs": []
    },
    {
      "cell_type": "code",
      "metadata": {
        "id": "DtEgQ0uxftfW",
        "colab_type": "code",
        "colab": {
          "base_uri": "https://localhost:8080/",
          "height": 226
        },
        "outputId": "3412bef2-3841-4b51-fc18-727ff6a0e256"
      },
      "source": [
        "train.head()"
      ],
      "execution_count": 58,
      "outputs": [
        {
          "output_type": "execute_result",
          "data": {
            "text/html": [
              "<div>\n",
              "<style scoped>\n",
              "    .dataframe tbody tr th:only-of-type {\n",
              "        vertical-align: middle;\n",
              "    }\n",
              "\n",
              "    .dataframe tbody tr th {\n",
              "        vertical-align: top;\n",
              "    }\n",
              "\n",
              "    .dataframe thead th {\n",
              "        text-align: right;\n",
              "    }\n",
              "</style>\n",
              "<table border=\"1\" class=\"dataframe\">\n",
              "  <thead>\n",
              "    <tr style=\"text-align: right;\">\n",
              "      <th></th>\n",
              "      <th>Product_Category_1</th>\n",
              "      <th>Product_Category_2</th>\n",
              "      <th>Product_Category_3</th>\n",
              "      <th>Purchase</th>\n",
              "      <th>Gender_F</th>\n",
              "      <th>Gender_M</th>\n",
              "      <th>Age_0-17</th>\n",
              "      <th>Age_18-25</th>\n",
              "      <th>Age_26-35</th>\n",
              "      <th>Age_36-45</th>\n",
              "      <th>Age_46-50</th>\n",
              "      <th>Age_51-55</th>\n",
              "      <th>Age_55+</th>\n",
              "      <th>Occupation_0</th>\n",
              "      <th>Occupation_1</th>\n",
              "      <th>Occupation_2</th>\n",
              "      <th>Occupation_3</th>\n",
              "      <th>Occupation_4</th>\n",
              "      <th>Occupation_5</th>\n",
              "      <th>Occupation_6</th>\n",
              "      <th>Occupation_7</th>\n",
              "      <th>Occupation_8</th>\n",
              "      <th>Occupation_9</th>\n",
              "      <th>Occupation_10</th>\n",
              "      <th>Occupation_11</th>\n",
              "      <th>Occupation_12</th>\n",
              "      <th>Occupation_13</th>\n",
              "      <th>Occupation_14</th>\n",
              "      <th>Occupation_15</th>\n",
              "      <th>Occupation_16</th>\n",
              "      <th>Occupation_17</th>\n",
              "      <th>Occupation_18</th>\n",
              "      <th>Occupation_19</th>\n",
              "      <th>Occupation_20</th>\n",
              "      <th>City_Category_A</th>\n",
              "      <th>City_Category_B</th>\n",
              "      <th>City_Category_C</th>\n",
              "      <th>Stay_In_Current_City_Years_0</th>\n",
              "      <th>Stay_In_Current_City_Years_1</th>\n",
              "      <th>Stay_In_Current_City_Years_2</th>\n",
              "      <th>Stay_In_Current_City_Years_3</th>\n",
              "      <th>Stay_In_Current_City_Years_4+</th>\n",
              "      <th>Marital_Status_0</th>\n",
              "      <th>Marital_Status_1</th>\n",
              "    </tr>\n",
              "  </thead>\n",
              "  <tbody>\n",
              "    <tr>\n",
              "      <th>0</th>\n",
              "      <td>0.105263</td>\n",
              "      <td>0.000000</td>\n",
              "      <td>0.000000</td>\n",
              "      <td>0.348992</td>\n",
              "      <td>1.0</td>\n",
              "      <td>0.0</td>\n",
              "      <td>1.0</td>\n",
              "      <td>0.0</td>\n",
              "      <td>0.0</td>\n",
              "      <td>0.0</td>\n",
              "      <td>0.0</td>\n",
              "      <td>0.0</td>\n",
              "      <td>0.0</td>\n",
              "      <td>0.0</td>\n",
              "      <td>0.0</td>\n",
              "      <td>0.0</td>\n",
              "      <td>0.0</td>\n",
              "      <td>0.0</td>\n",
              "      <td>0.0</td>\n",
              "      <td>0.0</td>\n",
              "      <td>0.0</td>\n",
              "      <td>0.0</td>\n",
              "      <td>0.0</td>\n",
              "      <td>1.0</td>\n",
              "      <td>0.0</td>\n",
              "      <td>0.0</td>\n",
              "      <td>0.0</td>\n",
              "      <td>0.0</td>\n",
              "      <td>0.0</td>\n",
              "      <td>0.0</td>\n",
              "      <td>0.0</td>\n",
              "      <td>0.0</td>\n",
              "      <td>0.0</td>\n",
              "      <td>0.0</td>\n",
              "      <td>1.0</td>\n",
              "      <td>0.0</td>\n",
              "      <td>0.0</td>\n",
              "      <td>0.0</td>\n",
              "      <td>0.0</td>\n",
              "      <td>1.0</td>\n",
              "      <td>0.0</td>\n",
              "      <td>0.0</td>\n",
              "      <td>1.0</td>\n",
              "      <td>0.0</td>\n",
              "    </tr>\n",
              "    <tr>\n",
              "      <th>1</th>\n",
              "      <td>0.000000</td>\n",
              "      <td>0.333333</td>\n",
              "      <td>0.777778</td>\n",
              "      <td>0.634181</td>\n",
              "      <td>1.0</td>\n",
              "      <td>0.0</td>\n",
              "      <td>1.0</td>\n",
              "      <td>0.0</td>\n",
              "      <td>0.0</td>\n",
              "      <td>0.0</td>\n",
              "      <td>0.0</td>\n",
              "      <td>0.0</td>\n",
              "      <td>0.0</td>\n",
              "      <td>0.0</td>\n",
              "      <td>0.0</td>\n",
              "      <td>0.0</td>\n",
              "      <td>0.0</td>\n",
              "      <td>0.0</td>\n",
              "      <td>0.0</td>\n",
              "      <td>0.0</td>\n",
              "      <td>0.0</td>\n",
              "      <td>0.0</td>\n",
              "      <td>0.0</td>\n",
              "      <td>1.0</td>\n",
              "      <td>0.0</td>\n",
              "      <td>0.0</td>\n",
              "      <td>0.0</td>\n",
              "      <td>0.0</td>\n",
              "      <td>0.0</td>\n",
              "      <td>0.0</td>\n",
              "      <td>0.0</td>\n",
              "      <td>0.0</td>\n",
              "      <td>0.0</td>\n",
              "      <td>0.0</td>\n",
              "      <td>1.0</td>\n",
              "      <td>0.0</td>\n",
              "      <td>0.0</td>\n",
              "      <td>0.0</td>\n",
              "      <td>0.0</td>\n",
              "      <td>1.0</td>\n",
              "      <td>0.0</td>\n",
              "      <td>0.0</td>\n",
              "      <td>1.0</td>\n",
              "      <td>0.0</td>\n",
              "    </tr>\n",
              "    <tr>\n",
              "      <th>2</th>\n",
              "      <td>0.578947</td>\n",
              "      <td>0.000000</td>\n",
              "      <td>0.000000</td>\n",
              "      <td>0.058875</td>\n",
              "      <td>1.0</td>\n",
              "      <td>0.0</td>\n",
              "      <td>1.0</td>\n",
              "      <td>0.0</td>\n",
              "      <td>0.0</td>\n",
              "      <td>0.0</td>\n",
              "      <td>0.0</td>\n",
              "      <td>0.0</td>\n",
              "      <td>0.0</td>\n",
              "      <td>0.0</td>\n",
              "      <td>0.0</td>\n",
              "      <td>0.0</td>\n",
              "      <td>0.0</td>\n",
              "      <td>0.0</td>\n",
              "      <td>0.0</td>\n",
              "      <td>0.0</td>\n",
              "      <td>0.0</td>\n",
              "      <td>0.0</td>\n",
              "      <td>0.0</td>\n",
              "      <td>1.0</td>\n",
              "      <td>0.0</td>\n",
              "      <td>0.0</td>\n",
              "      <td>0.0</td>\n",
              "      <td>0.0</td>\n",
              "      <td>0.0</td>\n",
              "      <td>0.0</td>\n",
              "      <td>0.0</td>\n",
              "      <td>0.0</td>\n",
              "      <td>0.0</td>\n",
              "      <td>0.0</td>\n",
              "      <td>1.0</td>\n",
              "      <td>0.0</td>\n",
              "      <td>0.0</td>\n",
              "      <td>0.0</td>\n",
              "      <td>0.0</td>\n",
              "      <td>1.0</td>\n",
              "      <td>0.0</td>\n",
              "      <td>0.0</td>\n",
              "      <td>1.0</td>\n",
              "      <td>0.0</td>\n",
              "    </tr>\n",
              "    <tr>\n",
              "      <th>3</th>\n",
              "      <td>0.578947</td>\n",
              "      <td>0.777778</td>\n",
              "      <td>0.000000</td>\n",
              "      <td>0.043634</td>\n",
              "      <td>1.0</td>\n",
              "      <td>0.0</td>\n",
              "      <td>1.0</td>\n",
              "      <td>0.0</td>\n",
              "      <td>0.0</td>\n",
              "      <td>0.0</td>\n",
              "      <td>0.0</td>\n",
              "      <td>0.0</td>\n",
              "      <td>0.0</td>\n",
              "      <td>0.0</td>\n",
              "      <td>0.0</td>\n",
              "      <td>0.0</td>\n",
              "      <td>0.0</td>\n",
              "      <td>0.0</td>\n",
              "      <td>0.0</td>\n",
              "      <td>0.0</td>\n",
              "      <td>0.0</td>\n",
              "      <td>0.0</td>\n",
              "      <td>0.0</td>\n",
              "      <td>1.0</td>\n",
              "      <td>0.0</td>\n",
              "      <td>0.0</td>\n",
              "      <td>0.0</td>\n",
              "      <td>0.0</td>\n",
              "      <td>0.0</td>\n",
              "      <td>0.0</td>\n",
              "      <td>0.0</td>\n",
              "      <td>0.0</td>\n",
              "      <td>0.0</td>\n",
              "      <td>0.0</td>\n",
              "      <td>1.0</td>\n",
              "      <td>0.0</td>\n",
              "      <td>0.0</td>\n",
              "      <td>0.0</td>\n",
              "      <td>0.0</td>\n",
              "      <td>1.0</td>\n",
              "      <td>0.0</td>\n",
              "      <td>0.0</td>\n",
              "      <td>1.0</td>\n",
              "      <td>0.0</td>\n",
              "    </tr>\n",
              "    <tr>\n",
              "      <th>4</th>\n",
              "      <td>0.368421</td>\n",
              "      <td>0.000000</td>\n",
              "      <td>0.000000</td>\n",
              "      <td>0.332248</td>\n",
              "      <td>0.0</td>\n",
              "      <td>1.0</td>\n",
              "      <td>0.0</td>\n",
              "      <td>0.0</td>\n",
              "      <td>0.0</td>\n",
              "      <td>0.0</td>\n",
              "      <td>0.0</td>\n",
              "      <td>0.0</td>\n",
              "      <td>1.0</td>\n",
              "      <td>0.0</td>\n",
              "      <td>0.0</td>\n",
              "      <td>0.0</td>\n",
              "      <td>0.0</td>\n",
              "      <td>0.0</td>\n",
              "      <td>0.0</td>\n",
              "      <td>0.0</td>\n",
              "      <td>0.0</td>\n",
              "      <td>0.0</td>\n",
              "      <td>0.0</td>\n",
              "      <td>0.0</td>\n",
              "      <td>0.0</td>\n",
              "      <td>0.0</td>\n",
              "      <td>0.0</td>\n",
              "      <td>0.0</td>\n",
              "      <td>0.0</td>\n",
              "      <td>1.0</td>\n",
              "      <td>0.0</td>\n",
              "      <td>0.0</td>\n",
              "      <td>0.0</td>\n",
              "      <td>0.0</td>\n",
              "      <td>0.0</td>\n",
              "      <td>0.0</td>\n",
              "      <td>1.0</td>\n",
              "      <td>0.0</td>\n",
              "      <td>0.0</td>\n",
              "      <td>0.0</td>\n",
              "      <td>0.0</td>\n",
              "      <td>1.0</td>\n",
              "      <td>1.0</td>\n",
              "      <td>0.0</td>\n",
              "    </tr>\n",
              "  </tbody>\n",
              "</table>\n",
              "</div>"
            ],
            "text/plain": [
              "   Product_Category_1  Product_Category_2  ...  Marital_Status_0  Marital_Status_1\n",
              "0            0.105263            0.000000  ...               1.0               0.0\n",
              "1            0.000000            0.333333  ...               1.0               0.0\n",
              "2            0.578947            0.000000  ...               1.0               0.0\n",
              "3            0.578947            0.777778  ...               1.0               0.0\n",
              "4            0.368421            0.000000  ...               1.0               0.0\n",
              "\n",
              "[5 rows x 44 columns]"
            ]
          },
          "metadata": {
            "tags": []
          },
          "execution_count": 58
        }
      ]
    },
    {
      "cell_type": "code",
      "metadata": {
        "id": "CSn0tBHOmNM0",
        "colab_type": "code",
        "colab": {}
      },
      "source": [
        "#print(train['Purchase'])\n",
        "train_y=train['Purchase']\n",
        "train_x=train.drop(['Purchase'],axis=1)"
      ],
      "execution_count": 0,
      "outputs": []
    },
    {
      "cell_type": "code",
      "metadata": {
        "id": "b3z_07CzjWY1",
        "colab_type": "code",
        "colab": {}
      },
      "source": [
        "from sklearn.model_selection import train_test_split\n",
        "X_train, X_val, y_train, y_val = train_test_split(train_x, train_y, test_size=0.20)"
      ],
      "execution_count": 0,
      "outputs": []
    },
    {
      "cell_type": "code",
      "metadata": {
        "id": "tbaRGKNpq5Rl",
        "colab_type": "code",
        "colab": {}
      },
      "source": [
        "from keras.models import Sequential\n",
        "from keras.layers import Dense"
      ],
      "execution_count": 0,
      "outputs": []
    },
    {
      "cell_type": "code",
      "metadata": {
        "id": "XQq14IK8rmNS",
        "colab_type": "code",
        "colab": {
          "base_uri": "https://localhost:8080/",
          "height": 354
        },
        "outputId": "e54167cc-8858-47b5-e03c-17cdd7365745"
      },
      "source": [
        "model = Sequential()\n",
        "model.add(Dense(32, input_dim=43, activation='relu'))\n",
        "model.add(Dense(16, activation='relu'))\n",
        "model.add(Dense(8, activation='relu'))\n",
        "model.add(Dense(4, activation='relu'))\n",
        "model.add(Dense(1, activation='sigmoid'))\n",
        "model.summary()"
      ],
      "execution_count": 62,
      "outputs": [
        {
          "output_type": "stream",
          "text": [
            "Model: \"sequential_2\"\n",
            "_________________________________________________________________\n",
            "Layer (type)                 Output Shape              Param #   \n",
            "=================================================================\n",
            "dense_6 (Dense)              (None, 32)                1408      \n",
            "_________________________________________________________________\n",
            "dense_7 (Dense)              (None, 16)                528       \n",
            "_________________________________________________________________\n",
            "dense_8 (Dense)              (None, 8)                 136       \n",
            "_________________________________________________________________\n",
            "dense_9 (Dense)              (None, 4)                 36        \n",
            "_________________________________________________________________\n",
            "dense_10 (Dense)             (None, 1)                 5         \n",
            "=================================================================\n",
            "Total params: 2,113\n",
            "Trainable params: 2,113\n",
            "Non-trainable params: 0\n",
            "_________________________________________________________________\n"
          ],
          "name": "stdout"
        }
      ]
    },
    {
      "cell_type": "code",
      "metadata": {
        "id": "VJYxPX30rwqo",
        "colab_type": "code",
        "colab": {}
      },
      "source": [
        "model.compile(loss='mean_squared_error', optimizer='adam', metrics=['mean_squared_error'])"
      ],
      "execution_count": 0,
      "outputs": []
    },
    {
      "cell_type": "code",
      "metadata": {
        "id": "zD680YOAsFI3",
        "colab_type": "code",
        "colab": {
          "base_uri": "https://localhost:8080/",
          "height": 430
        },
        "outputId": "8f652a17-5eb1-4d7d-ef6f-468672bd0e25"
      },
      "source": [
        "model.fit(X_train, y_train, epochs=10, batch_size=10)"
      ],
      "execution_count": 75,
      "outputs": [
        {
          "output_type": "stream",
          "text": [
            "Epoch 1/10\n",
            "440054/440054 [==============================] - 185s 420us/step - loss: 0.0259 - mean_squared_error: 0.0259\n",
            "Epoch 2/10\n",
            "440054/440054 [==============================] - 183s 416us/step - loss: 0.0178 - mean_squared_error: 0.0178\n",
            "Epoch 3/10\n",
            "440054/440054 [==============================] - 184s 418us/step - loss: 0.0164 - mean_squared_error: 0.0164\n",
            "Epoch 4/10\n",
            "440054/440054 [==============================] - 185s 420us/step - loss: 0.0162 - mean_squared_error: 0.0162\n",
            "Epoch 5/10\n",
            "440054/440054 [==============================] - 183s 415us/step - loss: 0.0161 - mean_squared_error: 0.0161\n",
            "Epoch 6/10\n",
            "440054/440054 [==============================] - 185s 420us/step - loss: 0.0160 - mean_squared_error: 0.0160\n",
            "Epoch 7/10\n",
            "440054/440054 [==============================] - 183s 416us/step - loss: 0.0159 - mean_squared_error: 0.0159\n",
            "Epoch 8/10\n",
            "440054/440054 [==============================] - 184s 418us/step - loss: 0.0159 - mean_squared_error: 0.0159\n",
            "Epoch 9/10\n",
            "440054/440054 [==============================] - 185s 420us/step - loss: 0.0158 - mean_squared_error: 0.0158\n",
            "Epoch 10/10\n",
            "440054/440054 [==============================] - 183s 415us/step - loss: 0.0157 - mean_squared_error: 0.0157\n"
          ],
          "name": "stdout"
        },
        {
          "output_type": "execute_result",
          "data": {
            "text/plain": [
              "<keras.callbacks.callbacks.History at 0x7f0613ea6c88>"
            ]
          },
          "metadata": {
            "tags": []
          },
          "execution_count": 75
        }
      ]
    },
    {
      "cell_type": "code",
      "metadata": {
        "id": "IcNWDUmwsHCm",
        "colab_type": "code",
        "colab": {
          "base_uri": "https://localhost:8080/",
          "height": 36
        },
        "outputId": "dd4ea41d-bdda-4f9c-f28d-21a6d53acd6c"
      },
      "source": [
        "from sklearn.metrics import mean_squared_error\n",
        "pred= model.predict(X_val)\n",
        "score = np.sqrt(mean_squared_error(y_val*mul,pred*mul))\n",
        "print (score)"
      ],
      "execution_count": 77,
      "outputs": [
        {
          "output_type": "stream",
          "text": [
            "2996.953124052592\n"
          ],
          "name": "stdout"
        }
      ]
    },
    {
      "cell_type": "code",
      "metadata": {
        "id": "ZvhFILijzAWA",
        "colab_type": "code",
        "colab": {}
      },
      "source": [
        "def accuracy(y_pred,y_test):\n",
        "    from sklearn import metrics\n",
        "    import matplotlib.pyplot as plt\n",
        "    import numpy as np\n",
        "    import pandas as pd\n",
        "    print(\"MAE\",metrics.mean_absolute_error(y_test,y_pred))\n",
        "    print(\"RMSE\",np.sqrt(metrics.mean_squared_error(y_test,y_pred)))    # using heatmap to plot accuracy\n",
        "    plt.scatter(y_test,y_pred)\n",
        "    plt.xlabel('predicted values')\n",
        "    plt.ylabel('true values')\n",
        "    plt.show()"
      ],
      "execution_count": 0,
      "outputs": []
    },
    {
      "cell_type": "code",
      "metadata": {
        "id": "A596cfBty8DP",
        "colab_type": "code",
        "colab": {
          "base_uri": "https://localhost:8080/",
          "height": 148
        },
        "outputId": "3f7fd369-d7d5-4d36-c326-a920233883fd"
      },
      "source": [
        "from sklearn.ensemble import RandomForestRegressor\n",
        "regressor=RandomForestRegressor(n_estimators=100,random_state=0)\n",
        "regressor.fit(X_train,y_train)"
      ],
      "execution_count": 70,
      "outputs": [
        {
          "output_type": "execute_result",
          "data": {
            "text/plain": [
              "RandomForestRegressor(bootstrap=True, ccp_alpha=0.0, criterion='mse',\n",
              "                      max_depth=None, max_features='auto', max_leaf_nodes=None,\n",
              "                      max_samples=None, min_impurity_decrease=0.0,\n",
              "                      min_impurity_split=None, min_samples_leaf=1,\n",
              "                      min_samples_split=2, min_weight_fraction_leaf=0.0,\n",
              "                      n_estimators=100, n_jobs=None, oob_score=False,\n",
              "                      random_state=0, verbose=0, warm_start=False)"
            ]
          },
          "metadata": {
            "tags": []
          },
          "execution_count": 70
        }
      ]
    },
    {
      "cell_type": "code",
      "metadata": {
        "id": "g8uuw2MfTwcU",
        "colab_type": "code",
        "colab": {
          "base_uri": "https://localhost:8080/",
          "height": 335
        },
        "outputId": "3fc9c615-c83b-4c19-9863-e74a8757519f"
      },
      "source": [
        "y_pred_randf=regressor.predict(X_val)\n",
        "\n",
        "print(\"Random Forest\")\n",
        "accuracy(y_pred_randf*mul,y_val*mul)"
      ],
      "execution_count": 74,
      "outputs": [
        {
          "output_type": "stream",
          "text": [
            "Random Forest\n",
            "MAE 2210.5104156747348\n",
            "RMSE 3035.10440771047\n"
          ],
          "name": "stdout"
        },
        {
          "output_type": "display_data",
          "data": {
            "image/png": "[encoded data removed]",
            "text/plain": [
              "<Figure size 432x288 with 1 Axes>"
            ]
          },
          "metadata": {
            "tags": [],
            "needs_background": "light"
          }
        }
      ]
    },
    {
      "cell_type": "code",
      "metadata": {
        "id": "5l8FMJXSVpST",
        "colab_type": "code",
        "colab": {
          "base_uri": "https://localhost:8080/",
          "height": 242
        },
        "outputId": "c54ae063-cbcf-495b-f35b-733c9352eab8"
      },
      "source": [
        "print(y_val)"
      ],
      "execution_count": 72,
      "outputs": [
        {
          "output_type": "stream",
          "text": [
            "16074     0.655810\n",
            "245947    0.369326\n",
            "295786    0.179047\n",
            "62115     0.401353\n",
            "529494    0.644954\n",
            "            ...   \n",
            "346613    0.478934\n",
            "483654    0.491252\n",
            "188917    0.635392\n",
            "68560     0.857948\n",
            "353154    0.483527\n",
            "Name: Purchase, Length: 110014, dtype: float64\n"
          ],
          "name": "stdout"
        }
      ]
    }
  ]
}